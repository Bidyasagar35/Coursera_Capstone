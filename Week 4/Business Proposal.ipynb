{
 "cells": [
  {
   "cell_type": "markdown",
   "metadata": {},
   "source": [
    "## Capstone Project - The Battle of Neighborhoods (Week 1)\n",
    "Now that you have been equipped with the skills and the tools to use location data to explore a geographical location, over the course of two weeks, you will have the opportunity to be as creative as you want and come up with an idea to leverage the Foursquare location data to explore or compare neighborhoods or cities of your choice or to come up with a problem that you can use the Foursquare location data to solve. If you cannot think of an idea or a problem, here are some ideas to get you started:\n",
    "\n",
    "In Module 3, we explored New York City and the city of Toronto and segmented and clustered their neighborhoods. Both cities are very diverse and are the financial capitals of their respective countries. One interesting idea would be to compare the neighborhoods of the two cities and determine how similar or dissimilar they are. \n",
    "- Is New York City more like Toronto or Paris or some other multicultural city? \n",
    "I will leave it to you to refine this idea.\n",
    "- In a city of your choice, if someone is looking to open a restaurant, where would you recommend that they open it? \n",
    "- Similarly, if a contractor is trying to start their own business, where would you recommend that they setup their office?\n",
    "\n",
    "These are just a couple of many ideas and problems that can be solved using location data in addition to other datasets. No matter what you decide to do, make sure to provide sufficient justification of why you think what you want to do or solve is important and why would a client or a group of people be interested in your project.\n",
    "\n",
    "For this week, you will be required to submit the following:\n",
    "\n",
    "- A description of the problem and a discussion of the background. (15 marks)\n",
    "- A description of the data and how it will be used to solve the problem. (15 marks)\n",
    "\n",
    "### QUESTION 1\n",
    "- A description of the problem and a discussion of the background.  \n",
    "\n",
    "# Description of the problem | Introduction\n",
    "\n",
    "### Introduction:-\n",
    "The objective of this project is to help people in finding, discovering and exploring better places, services around a particular neighborhood. It will help people in taking the best services in the locality, make smart and efficient decision on selecting great neighborhood out of numbers of other neighborhoods in London.\n",
    "\n",
    "A Lot of people are migrating to various states of London and they need lots of research for good housing prices and reputated schools for their children. This project is for those people who are looking for better neighborhoods. For ease of accessing to Cafe, School, Super market, medical shops, grocery shops, mall, theatre, hospital, like minded people, etc. In this way they can feel home.\n",
    "\n",
    "This Project aims to create an analysis of features for a people migrating to London to search a best neighborhood as a comparative analysis between neighborhoods. The features include median housing price and better school according to ratings, crime rates of that particular area, road connectivity, weather conditions, good management for emergency, water resources both freash and waste water and excrement conveyed in sewers and recreational facilities.\n",
    "\n",
    "It will help people to get awareness of the area and neighborhood before moving to a new city, state, country or place for their work or to start a new fresh life.\n",
    "\n",
    "### Problem Which Tried to Solve:-\n",
    "The major purpose of this project, is to suggest a better neighborhood in a new city for the person who are shifting to a new place. Social presence in society in terms of like minded people. Connectivity to the airport, bus stand, city center, markets and other daily needs things nearby.\n",
    "\n",
    "House in terms of housing prices in a ascending or descending order\n",
    "Schools in terms of location, fees, rating and reviews\n",
    "Air Quality Index of the particular Neighborhood.\n",
    "Basic amenities around the locality, ease of transport, etc.\n",
    "\n",
    "### The Location:-\n",
    "London is a popular destination for new immigrants in UK to reside. As a result, it is one of the most diverse and multicultural areas in the UK, being home to various religious groups and places of worship. Although immigration has become a hot topic over the past few years with more governments seeking more restrictions on immigrants and refugees, the general trend of immigration into London has been one of on the rise.\n",
    "\n",
    "### Foursquare API:-\n",
    "This project would use Four-square API as its prime data gathering source as it has a database of millions of places, especially their places API which provides the ability to perform location search, location sharing and details about a business.\n",
    "\n",
    "### Work Flow:-\n",
    "Using credentials of Foursquare API features of near-by places of the neighborhoods would be mined. Due to http request limitations the number of places per neighborhood parameter would reasonably be set to 100 and the radius parameter would be set to 500.\n",
    "\n",
    "### Clustering Approach:-\n",
    "To compare the similarities of two cities, we decided to explore neighborhoods, segment them, and group them into clusters to find similar neighborhoods in a big city like New York and London. To be able to do that, we need to cluster data which is a form of unsupervised machine learning: k-means clustering algorithm\n",
    "\n",
    "### Libraries Which are Used to Develope the Project:-\n",
    "- Pandas: To create and manipulate dataframes.\n",
    "- Folium: To visualize the neighborhoods cluster distribution of using interactive leaflet map.\n",
    "- Scikit Learn: For importing k-means clustering from the scikit library.\n",
    "- JSON: To handle JSON files.\n",
    "- XML: To separate data from presentation and XML stores data in plain text format.\n",
    "- Geocoder: To retrieve Location Data.\n",
    "- Beautiful Soup and Requests: To scrap and library to handle http requests.\n",
    "- Matplotlib: To plot the data."
   ]
  },
  {
   "cell_type": "code",
   "execution_count": null,
   "metadata": {},
   "outputs": [],
   "source": []
  }
 ],
 "metadata": {
  "kernelspec": {
   "display_name": "Python",
   "language": "python",
   "name": "conda-env-python-py"
  },
  "language_info": {
   "codemirror_mode": {
    "name": "ipython",
    "version": 3
   },
   "file_extension": ".py",
   "mimetype": "text/x-python",
   "name": "python",
   "nbconvert_exporter": "python",
   "pygments_lexer": "ipython3",
   "version": "3.6.11"
  }
 },
 "nbformat": 4,
 "nbformat_minor": 4
}
